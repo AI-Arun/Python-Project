{
 "cells": [
  {
   "cell_type": "code",
   "execution_count": 3,
   "id": "9e432bc3-43c6-417a-9e8f-baba154b7a06",
   "metadata": {},
   "outputs": [
    {
     "name": "stdout",
     "output_type": "stream",
     "text": [
      "The file is not empty.\n"
     ]
    }
   ],
   "source": [
    "#Write a program to check if the given file is empty or not.\n",
    "with open(r\"C:\\Users\\Arun Kumar H\\Downloads\\Car sale.xlsx (2).csv\", 'r') as file:\n",
    "    content = file.read()\n",
    "\n",
    "if len(content) == 0:\n",
    "    print(\"The file is empty.\")\n",
    "else:\n",
    "    print(\"The file is not empty.\")"
   ]
  },
  {
   "cell_type": "code",
   "execution_count": 2,
   "id": "e079706b-d571-4202-a307-8b9f2b716621",
   "metadata": {},
   "outputs": [
    {
     "name": "stdout",
     "output_type": "stream",
     "text": [
      "['123', '456']\n"
     ]
    }
   ],
   "source": [
    "import re\n",
    "string = \"There are 123 apples and 456 oranges in the basket.\"\n",
    "digits = re.findall(\"\\d+\", string)\n",
    "print(digits)\n"
   ]
  }
 ],
 "metadata": {
  "kernelspec": {
   "display_name": "Python 3 (ipykernel)",
   "language": "python",
   "name": "python3"
  },
  "language_info": {
   "codemirror_mode": {
    "name": "ipython",
    "version": 3
   },
   "file_extension": ".py",
   "mimetype": "text/x-python",
   "name": "python",
   "nbconvert_exporter": "python",
   "pygments_lexer": "ipython3",
   "version": "3.11.7"
  }
 },
 "nbformat": 4,
 "nbformat_minor": 5
}
