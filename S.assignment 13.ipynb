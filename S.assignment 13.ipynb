{
 "cells": [
  {
   "cell_type": "markdown",
   "id": "9c5d85af-bb5d-4156-b453-022465eb4414",
   "metadata": {},
   "source": [
    "#Question 1\n",
    "#WAP to Create a 4X2 integer array and print the following Attributes:The shape of an array.\n",
    "#Array dimensions.The Length of each element of the array in bytes.\n"
   ]
  },
  {
   "cell_type": "code",
   "execution_count": 1,
   "id": "d8b5ac0b-c19b-4da1-bb7d-473eb2132a22",
   "metadata": {},
   "outputs": [],
   "source": [
    "import numpy as np"
   ]
  },
  {
   "cell_type": "code",
   "execution_count": 2,
   "id": "3a0692e0-dcc9-49d0-99bb-71d064015541",
   "metadata": {},
   "outputs": [
    {
     "data": {
      "text/plain": [
       "array([[ 10,  90],\n",
       "       [ 10, 100],\n",
       "       [ 20, 110],\n",
       "       [ 20, 120]])"
      ]
     },
     "execution_count": 2,
     "metadata": {},
     "output_type": "execute_result"
    }
   ],
   "source": [
    "a=np.array([[10,90],[10,100],[20,110],[20,120]])\n",
    "a"
   ]
  },
  {
   "cell_type": "code",
   "execution_count": 3,
   "id": "e1725e51-22d5-436b-88c4-cb2d39339d47",
   "metadata": {},
   "outputs": [
    {
     "name": "stdout",
     "output_type": "stream",
     "text": [
      "Shape of the Array (4, 2)\n"
     ]
    }
   ],
   "source": [
    "print(\"Shape of the Array\",a.shape)"
   ]
  },
  {
   "cell_type": "code",
   "execution_count": 4,
   "id": "f9aac54b-0999-4d13-95bf-3889abbbdc82",
   "metadata": {},
   "outputs": [
    {
     "name": "stdout",
     "output_type": "stream",
     "text": [
      "Dimentions of the array: 2\n"
     ]
    }
   ],
   "source": [
    "print(\"Dimentions of the array:\",a.ndim)"
   ]
  },
  {
   "cell_type": "code",
   "execution_count": 5,
   "id": "f0d9fd57-ae65-4600-a847-3d9ebd9724c0",
   "metadata": {},
   "outputs": [
    {
     "name": "stdout",
     "output_type": "stream",
     "text": [
      "Each item size of the array: 4\n"
     ]
    }
   ],
   "source": [
    "print(\"Each item size of the array:\",a.itemsize)"
   ]
  },
  {
   "cell_type": "code",
   "execution_count": null,
   "id": "0b51296f-1f9e-4655-b2e0-4015fa3947ef",
   "metadata": {},
   "outputs": [],
   "source": []
  },
  {
   "cell_type": "markdown",
   "id": "83956a94-5455-404c-8a45-5199c3b60b83",
   "metadata": {},
   "source": [
    "#Question no 2\n",
    "#WAP to Create an 8X3 integer array from a range between 10 to 34 such that the difference between each element is 1 and then Split the array into four equal-sized sub-arrays."
   ]
  },
  {
   "cell_type": "code",
   "execution_count": 33,
   "id": "981102c7-d5e8-4e2a-9d14-d441c9fe2ae3",
   "metadata": {},
   "outputs": [
    {
     "data": {
      "text/plain": [
       "array([[10, 11, 12],\n",
       "       [13, 14, 15],\n",
       "       [16, 17, 18],\n",
       "       [19, 20, 21],\n",
       "       [22, 23, 24],\n",
       "       [25, 26, 27],\n",
       "       [28, 29, 30],\n",
       "       [31, 32, 33]])"
      ]
     },
     "execution_count": 33,
     "metadata": {},
     "output_type": "execute_result"
    }
   ],
   "source": [
    "b=np.arange(10,34,1).reshape(8,3)\n",
    "b"
   ]
  },
  {
   "cell_type": "code",
   "execution_count": 40,
   "id": "2e4996e6-a518-46b4-a69f-277a53f18461",
   "metadata": {},
   "outputs": [
    {
     "name": "stdout",
     "output_type": "stream",
     "text": [
      "4 Sub arrays as fallows:\n"
     ]
    },
    {
     "data": {
      "text/plain": [
       "[array([[10, 11, 12],\n",
       "        [13, 14, 15]]),\n",
       " array([[16, 17, 18],\n",
       "        [19, 20, 21]]),\n",
       " array([[22, 23, 24],\n",
       "        [25, 26, 27]]),\n",
       " array([[28, 29, 30],\n",
       "        [31, 32, 33]])]"
      ]
     },
     "execution_count": 40,
     "metadata": {},
     "output_type": "execute_result"
    }
   ],
   "source": [
    "b1=np.split(b,(4))\n",
    "print(\"4 Sub arrays as fallows:\")\n",
    "b1"
   ]
  },
  {
   "cell_type": "markdown",
   "id": "3d8f99da-73e3-4d6e-9c3a-a74e5864f063",
   "metadata": {},
   "source": [
    "#Question 3 \n",
    "#Write a program to show how Numpy taking less memory compared to Python List?"
   ]
  },
  {
   "cell_type": "code",
   "execution_count": 41,
   "id": "33844218-1824-45a8-bbca-6818eef8821a",
   "metadata": {},
   "outputs": [
    {
     "name": "stdout",
     "output_type": "stream",
     "text": [
      "Memory used by python list:5212 bytes\n",
      "Memory used by Numpy array:572 bytes\n"
     ]
    }
   ],
   "source": [
    "import sys\n",
    "\n",
    "python_list = list(range(143))\n",
    "numpy_array = np.arange(143)\n",
    "list_memory = sum(sys.getsizeof(item) for item in python_list) + sys.getsizeof(python_list)\n",
    "Numpy_memory = numpy_array.nbytes\n",
    "print(f\"Memory used by python list:{list_memory} bytes\")\n",
    "print(f\"Memory used by Numpy array:{Numpy_memory} bytes\")"
   ]
  },
  {
   "cell_type": "code",
   "execution_count": null,
   "id": "a0d7a90d-ab7c-43ba-9a76-9404d96dc477",
   "metadata": {},
   "outputs": [],
   "source": []
  },
  {
   "cell_type": "code",
   "execution_count": null,
   "id": "f8f03070-6595-4497-9a13-db9e3074b1c5",
   "metadata": {},
   "outputs": [],
   "source": []
  },
  {
   "cell_type": "code",
   "execution_count": null,
   "id": "ac6410ca-7a07-446b-8959-99a8b4347c62",
   "metadata": {},
   "outputs": [],
   "source": []
  },
  {
   "cell_type": "code",
   "execution_count": null,
   "id": "6327f65e-466a-4030-8053-a37c58bf0222",
   "metadata": {},
   "outputs": [],
   "source": []
  },
  {
   "cell_type": "code",
   "execution_count": null,
   "id": "ef5524e9-d7a7-46ff-8d0a-329046dfda5f",
   "metadata": {},
   "outputs": [],
   "source": []
  },
  {
   "cell_type": "code",
   "execution_count": null,
   "id": "034c8bbc-b7cf-4236-98c7-2dfa58e9014a",
   "metadata": {},
   "outputs": [],
   "source": []
  }
 ],
 "metadata": {
  "kernelspec": {
   "display_name": "Python 3 (ipykernel)",
   "language": "python",
   "name": "python3"
  },
  "language_info": {
   "codemirror_mode": {
    "name": "ipython",
    "version": 3
   },
   "file_extension": ".py",
   "mimetype": "text/x-python",
   "name": "python",
   "nbconvert_exporter": "python",
   "pygments_lexer": "ipython3",
   "version": "3.11.7"
  }
 },
 "nbformat": 4,
 "nbformat_minor": 5
}
