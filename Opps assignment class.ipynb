{
 "cells": [
  {
   "cell_type": "code",
   "execution_count": null,
   "id": "f28fb6c8-8f3a-4b32-9e34-ec99ed6d0a2c",
   "metadata": {},
   "outputs": [],
   "source": [
    "#Problem 1: Bank Account Create a class representing a bank account with attributes like account number, account holder name, and balance. \n",
    "#Implement methods to deposit and withdraw money from the account."
   ]
  },
  {
   "cell_type": "code",
   "execution_count": 1,
   "id": "f76eca0b-9427-41de-84fd-6a78e050c547",
   "metadata": {},
   "outputs": [],
   "source": [
    "class Bank_Account:\n",
    "    Account_number = \" \"\n",
    "    Account_holdername = \" \"\n",
    "    Account_balance = 0\n",
    "    \n",
    "    def deposit(self,Account_number,Account_holdername,Amount):\n",
    "        print(\"Amount is deposited\")\n",
    "\n",
    "    def withdraw (self,Account_number,Account_holdername,Account_balance):\n",
    "        print(\"Withdraw  the amount\")\n",
    "        \n",
    "    \n",
    "A1 = Bank_Account()\n",
    "A1.Account_number=1001\n",
    "A1.Account_holdername = \"Arun\"\n",
    "A1.Account_balance = 50005\n",
    "    \n",
    "    "
   ]
  },
  {
   "cell_type": "code",
   "execution_count": 2,
   "id": "aacbc62a-74fc-48fd-a9fd-3d6d96f54b94",
   "metadata": {},
   "outputs": [
    {
     "name": "stdout",
     "output_type": "stream",
     "text": [
      "Amount is deposited\n"
     ]
    }
   ],
   "source": [
    "A1.deposit(1002,\"Varun\",5000)"
   ]
  },
  {
   "cell_type": "code",
   "execution_count": 3,
   "id": "d15cfc17-e9e9-4eb2-9956-52c0fd95dbe1",
   "metadata": {},
   "outputs": [
    {
     "name": "stdout",
     "output_type": "stream",
     "text": [
      "Withdraw  the amount\n"
     ]
    }
   ],
   "source": [
    "A1.withdraw(1002,\"Varun\",3000)"
   ]
  },
  {
   "cell_type": "code",
   "execution_count": 4,
   "id": "862b6f62-3b01-4dff-96ab-15d4b9567d22",
   "metadata": {},
   "outputs": [],
   "source": [
    "#Problem 2: Employee Management Create a class representing an employee with \n",
    "#attributes like employee ID, name, and salary. \n",
    "#Implement methods to calculate the yearly bonus and display employee details.\n",
    "\n",
    "class Emp_management:\n",
    "    employee_ID =\" \"\n",
    "    emp_name =\" \"\n",
    "    emp_salary = 0\n",
    "    bonus_percentage= 0\n",
    "    \n",
    "    def yearly_bonus(self,employee_ID,emp_salary,bonus_percentage):\n",
    "        yearly_salary = self.emp_salary * 12\n",
    "        bonus = yearly_salary * (bonus_percentage / 100)\n",
    "        return bonus\n",
    "    def employee_details(self):\n",
    "        print(f\"Employee ID: {self.employee_ID}\")\n",
    "        print(f\"Name: {self.emp_name}\")\n",
    "        print(f\"Salary: ${self.emp_salary:.2f}\")\n",
    "    \n",
    "\n"
   ]
  },
  {
   "cell_type": "code",
   "execution_count": 5,
   "id": "2edef72b-50dd-4f01-84e0-3371316bc75e",
   "metadata": {},
   "outputs": [],
   "source": [
    "A2=Emp_management\n",
    "A2.employee_ID = 1001\n",
    "A2.emp_name = \"Ragu\"\n",
    "A2.emp_salary = 14000\n",
    "A2.bonus_percentage=13"
   ]
  },
  {
   "cell_type": "code",
   "execution_count": 6,
   "id": "32c4ffc6-17fe-4f7b-9d36-99c714c2b8d2",
   "metadata": {},
   "outputs": [
    {
     "data": {
      "text/plain": [
       "25200.0"
      ]
     },
     "execution_count": 6,
     "metadata": {},
     "output_type": "execute_result"
    }
   ],
   "source": [
    "A2.yearly_bonus(A2,1002,\"Ramu\",15)"
   ]
  },
  {
   "cell_type": "code",
   "execution_count": 7,
   "id": "cb898310-8f08-41ff-824e-afb3dbc80a33",
   "metadata": {},
   "outputs": [
    {
     "name": "stdout",
     "output_type": "stream",
     "text": [
      "Employee ID: 1001\n",
      "Name: Ragu\n",
      "Salary: $14000.00\n"
     ]
    }
   ],
   "source": [
    "A2.employee_details(A2)"
   ]
  },
  {
   "cell_type": "code",
   "execution_count": 22,
   "id": "78cdb18e-3c53-4078-9e0d-92b62b5f7dd0",
   "metadata": {},
   "outputs": [],
   "source": [
    "#Problem 3: Vehicle Rental Create a class representing a vehicle rental system. \n",
    "#Implement methods to rent a vehicle, return a vehicle, and display available vehicles.\n",
    "\n",
    "class  Rental_vehical:\n",
    "    def __init__(self):\n",
    "        self.available_vehicles = [\"Car\", \"Bike\", \"Van\", \"Truck\"]\n",
    "        self.rented_vehicles = []\n",
    "        \n",
    "    def display_available_vehicles(self):\n",
    "        print(\"Available vehicles:\")\n",
    "        for vehicle in self.available_vehicles:\n",
    "            print(vehicle)\n",
    "\n",
    "    def rent_vehicle(self,vehicle):\n",
    "        if vehicle in self.available_vehicles:\n",
    "            self.available_vehicles.remove(vehicle)\n",
    "            self.rented_vehicles.append(vehicle)\n",
    "            print(f\"{vehicle} has been rented.\")\n",
    "        else:\n",
    "            print(f\"{vehicle} is not available for rent.\")\n",
    "            \n",
    "    def return_vehicle(self,vehicle):\n",
    "        if vehicle in self.rented_vehicles:\n",
    "            self.rented_vehicles.remove(vehicle)\n",
    "            self.available_vehicles.append(vehicle)\n",
    "            print(f\"{vehicle} has been returned.\")\n",
    "        else:\n",
    "            print(f\"{vehicle} was not rented from this service.\")  \n",
    "\n",
    "\n",
    "    \n",
    "    "
   ]
  },
  {
   "cell_type": "code",
   "execution_count": 23,
   "id": "4253e3ec-21da-4a9e-a968-486284dadd8b",
   "metadata": {},
   "outputs": [],
   "source": [
    "rental_system = Rental_vehical()"
   ]
  },
  {
   "cell_type": "code",
   "execution_count": 24,
   "id": "2ccbe11e-9c01-42f2-9319-c457ee01f833",
   "metadata": {},
   "outputs": [
    {
     "name": "stdout",
     "output_type": "stream",
     "text": [
      "Available vehicles:\n",
      "Car\n",
      "Bike\n",
      "Van\n",
      "Truck\n",
      "\n"
     ]
    }
   ],
   "source": [
    "rental_system.display_available_vehicles()\n",
    "print()"
   ]
  },
  {
   "cell_type": "code",
   "execution_count": 25,
   "id": "d61289b4-d65f-4419-8bfa-3e24c64ea6e9",
   "metadata": {},
   "outputs": [
    {
     "name": "stdout",
     "output_type": "stream",
     "text": [
      "Car has been rented.\n",
      "Available vehicles:\n",
      "Bike\n",
      "Van\n",
      "Truck\n",
      "\n"
     ]
    }
   ],
   "source": [
    "rental_system.rent_vehicle(\"Car\")\n",
    "rental_system.display_available_vehicles()\n",
    "print()"
   ]
  },
  {
   "cell_type": "code",
   "execution_count": 26,
   "id": "61cfe4a8-30d1-4a70-a850-0e5bd65c8be9",
   "metadata": {},
   "outputs": [
    {
     "name": "stdout",
     "output_type": "stream",
     "text": [
      "Available Books:\n",
      "The Hitchhiker's Guide to the Galaxy by Douglas Adams\n",
      "The Lord of the Rings by J.R.R. Tolkien\n",
      "Pride and Prejudice by Jane Austen\n",
      "\n",
      "Available Books after Borrowing:\n",
      "The Hitchhiker's Guide to the Galaxy by Douglas Adams\n",
      "The Lord of the Rings by J.R.R. Tolkien\n",
      "Pride and Prejudice by Jane Austen\n",
      "\n",
      "Available Books after Returning:\n",
      "The Hitchhiker's Guide to the Galaxy by Douglas Adams\n",
      "The Lord of the Rings by J.R.R. Tolkien\n",
      "Pride and Prejudice by Jane Austen\n"
     ]
    }
   ],
   "source": [
    "#Problem 4: Library Catalog Create classes representing a library and a book. \n",
    "#Implement methods to add books to the library, borrow books, and display available books.\n",
    "class Book:\n",
    "    def __init__(self, title, author):\n",
    "        self.title = title\n",
    "        self.author = author\n",
    "        self.is_borrowed = False\n",
    "\n",
    "    def borrow(self):\n",
    "        self.is_borrowed = True\n",
    "\n",
    "    def return_book(self):\n",
    "        self.is_borrowed = False\n",
    "\n",
    "    def __str__(self):\n",
    "        return f\"{self.title} by {self.author}\"\n",
    "\n",
    "\n",
    "class Library:\n",
    "    def __init__(self):\n",
    "        self.books = []\n",
    "\n",
    "    def add_book(self, book):\n",
    "        self.books.append(book)\n",
    "\n",
    "    def borrow_book(self, title):\n",
    "        for book in self.books:\n",
    "            if book.title == title and not book.is_borrowed:\n",
    "                book.borrow()\n",
    "                return True\n",
    "        return False\n",
    "\n",
    "    def return_book(self, title):\n",
    "        for book in self.books:\n",
    "            if book.title == title and book.is_borrowed:\n",
    "                book.return_book()\n",
    "                return True\n",
    "        return False\n",
    "\n",
    "    def available_books(self):\n",
    "        return [book for book in self.books if not book.is_borrowed]\n",
    "\n",
    "    def __str__(self):\n",
    "        return \"\\n\".join(str(book) for book in self.books)\n",
    "\n",
    "\n",
    "# Create a library\n",
    "library = Library()\n",
    "\n",
    "# Add some books\n",
    "library.add_book(Book(\"The Hitchhiker's Guide to the Galaxy\", \"Douglas Adams\"))\n",
    "library.add_book(Book(\"The Lord of the Rings\", \"J.R.R. Tolkien\"))\n",
    "library.add_book(Book(\"Pride and Prejudice\", \"Jane Austen\"))\n",
    "\n",
    "# Print the available books\n",
    "print(\"Available Books:\")\n",
    "print(library)\n",
    "\n",
    "# Borrow a book\n",
    "library.borrow_book(\"The Lord of the Rings\")\n",
    "\n",
    "# Print the available books after borrowing\n",
    "print(\"\\nAvailable Books after Borrowing:\")\n",
    "print(library)\n",
    "\n",
    "# Return a book\n",
    "library.return_book(\"The Lord of the Rings\")\n",
    "\n",
    "# Print the available books after returning\n",
    "print(\"\\nAvailable Books after Returning:\")\n",
    "print(library)\n",
    "\n",
    "        \n",
    "    \n",
    "\n"
   ]
  },
  {
   "cell_type": "code",
   "execution_count": 28,
   "id": "51f024c3-d399-48b2-b445-382adb5e81d7",
   "metadata": {},
   "outputs": [
    {
     "name": "stdout",
     "output_type": "stream",
     "text": [
      "Available Products:\n",
      "Shirt - Price: $19.99, Quantity: 15\n",
      "Hat - Price: $14.95, Quantity: 5\n",
      "Jeans - Price: $39.99, Quantity: 12\n",
      "\n",
      "Available Products after Update:\n",
      "Shirt - Price: $19.99, Quantity: 15\n",
      "Hat - Price: $14.95, Quantity: 8\n",
      "Jeans - Price: $39.99, Quantity: 12\n"
     ]
    }
   ],
   "source": [
    "#Problem 5: Product Inventory Create classes representing a product and an inventory system.\n",
    "#Implement methods to add products to the inventory, update product quantity, and display available products.\n",
    "class Product:\n",
    "    def __init__(self, name, price, quantity):\n",
    "        self.name = name\n",
    "        self.price = price\n",
    "        self.quantity = quantity\n",
    "\n",
    "    def __str__(self):\n",
    "        return f\"{self.name} - Price: ${self.price:.2f}, Quantity: {self.quantity}\"\n",
    "\n",
    "\n",
    "class Inventory:\n",
    "    def __init__(self):\n",
    "        self.products = {}\n",
    "\n",
    "    def add_product(self, product):\n",
    "        if product.name in self.products:\n",
    "            self.products[product.name].quantity += product.quantity\n",
    "        else:\n",
    "            self.products[product.name] = product\n",
    "\n",
    "    def update_quantity(self, name, quantity):\n",
    "        if name in self.products:\n",
    "            self.products[name].quantity += quantity\n",
    "        else:\n",
    "            print(f\"Product {name} not found in inventory.\")\n",
    "   \n",
    "    def available_products(self):\n",
    "        return [product for product in self.products.values() if product.quantity > 0]\n",
    "\n",
    "    def __str__(self):\n",
    "        if not self.products:\n",
    "            return \"Inventory is empty.\"\n",
    "        return \"\\n\".join(str(product) for product in self.available_products())\n",
    "\n",
    "\n",
    "# Create an inventory system\n",
    "inventory = Inventory()\n",
    "\n",
    "# Add some products\n",
    "inventory.add_product(Product(\"Shirt\", 19.99, 10))\n",
    "inventory.add_product(Product(\"Hat\", 14.95, 5))\n",
    "inventory.add_product(Product(\"Jeans\", 39.99, 12))\n",
    "inventory.add_product(Product(\"Shirt\", 19.99, 5))  # Add more shirts\n",
    "\n",
    "# Print the available products\n",
    "print(\"Available Products:\")\n",
    "print(inventory)\n",
    "\n",
    "# Update quantity of a product (add 3 hats)\n",
    "inventory.update_quantity(\"Hat\", 3)\n",
    "\n",
    "# Print the available products after update\n",
    "print(\"\\nAvailable Products after Update:\")\n",
    "print(inventory)\n"
   ]
  },
  {
   "cell_type": "code",
   "execution_count": 30,
   "id": "31deef2e-2c5d-4434-bc6a-fa620d9b91b1",
   "metadata": {},
   "outputs": [
    {
     "name": "stdout",
     "output_type": "stream",
     "text": [
      "Square:\n",
      "  Area: 25\n",
      "  Perimeter: 20\n",
      "\n",
      "Rectangle:\n",
      "  Area: 24\n",
      "  Perimeter: 20\n",
      "\n",
      "Triangle:\n",
      "  Area: 6.0\n",
      "  Perimeter: 12.00\n"
     ]
    }
   ],
   "source": [
    "#Problem 6: Shape Calculation Create a class representing a shape with attributes like length, width, and height. \n",
    "#Implement methods to calculate the area and perimeter of the shape.\n",
    "class Shape:\n",
    "    def __init__(self, length=0, width=0, height=0):\n",
    "        self.length = length\n",
    "        self.width = width\n",
    "        self.height = height\n",
    "\n",
    "    def area(self):\n",
    "        raise NotImplementedError(\"Subclass must implement area() method\")\n",
    "\n",
    "    def perimeter(self):\n",
    "        raise NotImplementedError(\"Subclass must implement perimeter() method\")\n",
    "\n",
    "\n",
    "class Square(Shape):\n",
    "    def __init__(self, side_length):\n",
    "        super().__init__(side_length, side_length)\n",
    "\n",
    "    def area(self):\n",
    "        return self.length * self.width\n",
    "\n",
    "    def perimeter(self):\n",
    "        return 4 * self.length\n",
    "\n",
    "\n",
    "class Rectangle(Shape):\n",
    "    def __init__(self, length, width):\n",
    "        super().__init__(length, width)\n",
    "\n",
    "    def area(self):\n",
    "        return self.length * self.width\n",
    "\n",
    "    def perimeter(self):\n",
    "        return 2 * (self.length + self.width)\n",
    "\n",
    "\n",
    "class Triangle(Shape):\n",
    "    def __init__(self, base, height):\n",
    "        super().__init__(base, 0, height)\n",
    "\n",
    "    def area(self):\n",
    "        return 0.5 * self.length * self.height\n",
    "\n",
    "    def perimeter(self):\n",
    "        # Assuming a right triangle, calculate the hypotenuse using Pythagorean theorem\n",
    "        hypotenuse = (self.length**2 + self.height**2)**0.5\n",
    "        return self.length + self.height + hypotenuse\n",
    "\n",
    "\n",
    "# Create some shapes\n",
    "square = Square(5)\n",
    "rectangle = Rectangle(4, 6)\n",
    "triangle = Triangle(3, 4)\n",
    "\n",
    "# Print the area and perimeter of each shape\n",
    "print(\"Square:\")\n",
    "print(f\"  Area: {square.area()}\")\n",
    "print(f\"  Perimeter: {square.perimeter()}\")\n",
    "\n",
    "print(\"\\nRectangle:\")\n",
    "print(f\"  Area: {rectangle.area()}\")\n",
    "print(f\"  Perimeter: {rectangle.perimeter()}\")\n",
    "\n",
    "print(\"\\nTriangle:\")\n",
    "print(f\"  Area: {triangle.area()}\")\n",
    "print(f\"  Perimeter: {triangle.perimeter():.2f}\")  # Round triangle perimeter to 2 decimal places\n"
   ]
  },
  {
   "cell_type": "code",
   "execution_count": 31,
   "id": "ffd5a90e-76e1-4b15-8965-13c4a808166d",
   "metadata": {},
   "outputs": [
    {
     "name": "stdout",
     "output_type": "stream",
     "text": [
      "Students:\n",
      "Student ID: 12345, Name: Alice (Average: 84.33)\n",
      "Student ID: 54321, Name: Bob (Average: 91.67)\n",
      "Student ID: 67890, Name: Charlie (No grades)\n"
     ]
    }
   ],
   "source": [
    "#Problem 7: Student Management Create a class representing a student with attributes like student ID, name, and grades.\n",
    "#Implement methods to calculate the average grade and display student details.\n",
    "class Student:\n",
    "    def __init__(self, student_id, name, grades):\n",
    "        self.student_id = student_id\n",
    "        self.name = name\n",
    "        self.grades = grades\n",
    "\n",
    "    def calculate_average(self):\n",
    "        if not self.grades:\n",
    "            return None\n",
    "        return sum(self.grades) / len(self.grades)\n",
    "\n",
    "    def __str__(self):\n",
    "        average = self.calculate_average()\n",
    "        grade_str = \" (No grades)\" if not self.grades else f\" (Average: {average:.2f})\"\n",
    "        return f\"Student ID: {self.student_id}, Name: {self.name}{grade_str}\"\n",
    "\n",
    "\n",
    "# Create some students\n",
    "student1 = Student(12345, \"Alice\", [85, 90, 78])\n",
    "student2 = Student(54321, \"Bob\", [95, 88, 92])\n",
    "student3 = Student(67890, \"Charlie\", [])  # No grades\n",
    "\n",
    "# Print student details\n",
    "print(\"Students:\")\n",
    "print(student1)\n",
    "print(student2)\n",
    "print(student3)\n"
   ]
  },
  {
   "cell_type": "code",
   "execution_count": 32,
   "id": "b2c4d5e5-9429-45b7-ab66-f31e688bf441",
   "metadata": {},
   "outputs": [
    {
     "name": "stdout",
     "output_type": "stream",
     "text": [
      "From: sender@example.com\n",
      "To: recipient@example.com\n",
      "Subject: This is a Test Email\n",
      "Content:\n",
      "This is the content of the email.\n"
     ]
    }
   ],
   "source": [
    "#Problem 8: Email Management Create a class representing an email with attributes like sender, recipient, and subject. \n",
    "#Implement methods to send an email and display email details.\n",
    "class Email:\n",
    "    def __init__(self, sender, recipient, subject, content):\n",
    "        self.sender = sender\n",
    "        self.recipient = recipient\n",
    "        self.subject = subject\n",
    "        self.content = content\n",
    "\n",
    "    def display_details(self):\n",
    "        print(f\"From: {self.sender}\")\n",
    "        print(f\"To: {self.recipient}\")\n",
    "        print(f\"Subject: {self.subject}\")\n",
    "        print(f\"Content:\\n{self.content}\")\n",
    "\n",
    "# Create an email object (assuming you have a way to send it later)\n",
    "email = Email(\"sender@example.com\", \"recipient@example.com\", \n",
    "              \"This is a Test Email\", \"This is the content of the email.\")\n",
    "\n",
    "# Display email details\n",
    "email.display_details()\n"
   ]
  },
  {
   "cell_type": "code",
   "execution_count": 33,
   "id": "790e2978-16a5-4426-9470-501cf6ec9eea",
   "metadata": {},
   "outputs": [
    {
     "name": "stdout",
     "output_type": "stream",
     "text": [
      "johndoe's Posts:\n",
      "1. Hello, world!\n",
      "2. This is my second post with #programming\n",
      "3. Just finished a great book.\n",
      "Search results for 'programming' in johndoe's posts:\n",
      "1. This is my second post with #programming\n"
     ]
    }
   ],
   "source": [
    "#Problem 9: Social Media Profile Create a class representing a social media profile with attributes like username and posts. \n",
    "#Implement methods to add posts, display posts, and search for posts by keyword.\n",
    "class Profile:\n",
    "    def __init__(self, username):\n",
    "        self.username = username\n",
    "        self.posts = []\n",
    "\n",
    "    def add_post(self, content):\n",
    "        self.posts.append(content)\n",
    "\n",
    "    def display_posts(self):\n",
    "        if not self.posts:\n",
    "            print(f\"{self.username} has no posts yet.\")\n",
    "            return\n",
    "        print(f\"{self.username}'s Posts:\")\n",
    "        for i, post in enumerate(self.posts, start=1):\n",
    "            print(f\"{i}. {post}\")\n",
    "\n",
    "    def search_posts(self, keyword):\n",
    "        matching_posts = [post for post in self.posts if keyword.lower() in post.lower()]\n",
    "        if not matching_posts:\n",
    "            print(f\"No posts found containing '{keyword}'.\")\n",
    "            return\n",
    "        print(f\"Search results for '{keyword}' in {self.username}'s posts:\")\n",
    "        for i, post in enumerate(matching_posts, start=1):\n",
    "            print(f\"{i}. {post}\")\n",
    "\n",
    "\n",
    "# Create a profile\n",
    "profile = Profile(\"johndoe\")\n",
    "\n",
    "# Add some posts\n",
    "profile.add_post(\"Hello, world!\")\n",
    "profile.add_post(\"This is my second post with #programming\")\n",
    "profile.add_post(\"Just finished a great book.\")\n",
    "\n",
    "# Display all posts\n",
    "profile.display_posts()\n",
    "\n",
    "# Search for posts containing \"programming\"\n",
    "profile.search_posts(\"programming\")\n"
   ]
  },
  {
   "cell_type": "code",
   "execution_count": 34,
   "id": "39496f55-76dc-4c9c-990f-bd56b3a879a3",
   "metadata": {},
   "outputs": [
    {
     "name": "stdout",
     "output_type": "stream",
     "text": [
      "Pending Tasks:\n",
      "1. Finish report (2024-06-10) \n",
      "2. Clean the house (2024-06-06) \n"
     ]
    }
   ],
   "source": [
    "#Problem 10: ToDo List Create a class representing a ToDo list with attributes like tasks and due dates. \n",
    "#Implement methods to add tasks, mark tasks as completed, and display pending tasks.\n",
    "from datetime import date\n",
    "\n",
    "class ToDoList:\n",
    "    def __init__(self):\n",
    "        self.tasks = []\n",
    "\n",
    "    def add_task(self, description, due_date=None):\n",
    "        if not due_date:\n",
    "            due_date = date.today()\n",
    "        self.tasks.append({\"description\": description, \"completed\": False, \"due_date\": due_date})\n",
    "\n",
    "    def mark_completed(self, description):\n",
    "        for task in self.tasks:\n",
    "            if task[\"description\"] == description:\n",
    "                task[\"completed\"] = True\n",
    "                return\n",
    "        print(f\"Task '{description}' not found in To-Do List.\")\n",
    "\n",
    "    def display_pending(self):\n",
    "        pending_tasks = [task for task in self.tasks if not task[\"completed\"]]\n",
    "        if not pending_tasks:\n",
    "            print(\"You have no pending tasks!\")\n",
    "            return\n",
    "        print(\"Pending Tasks:\")\n",
    "        for i, task in enumerate(pending_tasks, start=1):\n",
    "            due_date_str = task[\"due_date\"].strftime(\"%Y-%m-%d\") if task[\"due_date\"] else \"No due date\"\n",
    "            completion_str = \"[Completed]\" if task[\"completed\"] else \"\"\n",
    "            print(f\"{i}. {task['description']} ({due_date_str}) {completion_str}\")\n",
    "\n",
    "\n",
    "# Create a To-Do list\n",
    "todo_list = ToDoList()\n",
    "\n",
    "# Add some tasks\n",
    "todo_list.add_task(\"Buy groceries\")\n",
    "todo_list.add_task(\"Finish report\", due_date=date(year=2024, month=6, day=10))\n",
    "todo_list.add_task(\"Clean the house\")\n",
    "\n",
    "# Mark a task as completed\n",
    "todo_list.mark_completed(\"Buy groceries\")\n",
    "\n",
    "# Display pending tasks\n",
    "todo_list.display_pending()\n"
   ]
  },
  {
   "cell_type": "code",
   "execution_count": null,
   "id": "2ea7a786-5e25-4e6b-90ed-0b737f135339",
   "metadata": {},
   "outputs": [],
   "source": []
  },
  {
   "cell_type": "code",
   "execution_count": null,
   "id": "bdc368de-41dc-43ef-ab50-d0af3c4cd195",
   "metadata": {},
   "outputs": [],
   "source": [
    "#"
   ]
  },
  {
   "cell_type": "code",
   "execution_count": null,
   "id": "29616cf9-c896-4c8d-8ebd-a9492ebb27b7",
   "metadata": {},
   "outputs": [],
   "source": []
  },
  {
   "cell_type": "code",
   "execution_count": null,
   "id": "1ceb8f63-c118-4797-bb6f-bee64208b7b7",
   "metadata": {},
   "outputs": [],
   "source": []
  },
  {
   "cell_type": "code",
   "execution_count": null,
   "id": "3e01281e-2149-4b2a-a9e9-95d779249330",
   "metadata": {},
   "outputs": [],
   "source": []
  },
  {
   "cell_type": "code",
   "execution_count": null,
   "id": "6d0aaa81-48ed-41c5-b7a4-25567a997a93",
   "metadata": {},
   "outputs": [],
   "source": []
  },
  {
   "cell_type": "code",
   "execution_count": null,
   "id": "640f0322-bfc4-40d3-ace5-df80a2ef8d8e",
   "metadata": {},
   "outputs": [],
   "source": []
  },
  {
   "cell_type": "code",
   "execution_count": null,
   "id": "447b52c1-7173-4b96-8e1d-5c8130686fb1",
   "metadata": {},
   "outputs": [],
   "source": []
  },
  {
   "cell_type": "code",
   "execution_count": null,
   "id": "77557035-59ae-4d50-bdc0-bd21ddd3b706",
   "metadata": {},
   "outputs": [],
   "source": []
  },
  {
   "cell_type": "code",
   "execution_count": null,
   "id": "28777cb6-7163-4e04-8e85-1c4551b6f1e2",
   "metadata": {},
   "outputs": [],
   "source": []
  },
  {
   "cell_type": "code",
   "execution_count": null,
   "id": "e6e0540c-2355-49ee-94b0-c2692d34232f",
   "metadata": {},
   "outputs": [],
   "source": []
  },
  {
   "cell_type": "code",
   "execution_count": null,
   "id": "e25148be-d6da-410c-8437-006db4e3d18c",
   "metadata": {},
   "outputs": [],
   "source": []
  },
  {
   "cell_type": "code",
   "execution_count": null,
   "id": "627f2a2f-f4ae-4ca0-a9a9-53d168be51f1",
   "metadata": {},
   "outputs": [],
   "source": []
  },
  {
   "cell_type": "code",
   "execution_count": null,
   "id": "853aa32d-30ef-48b3-a74a-02c742c8a1b5",
   "metadata": {},
   "outputs": [],
   "source": []
  },
  {
   "cell_type": "code",
   "execution_count": null,
   "id": "73210893-f96f-41e9-8a20-23b068d3565a",
   "metadata": {},
   "outputs": [],
   "source": []
  },
  {
   "cell_type": "code",
   "execution_count": null,
   "id": "3c1759bb-43a3-4840-8909-aaaf43959053",
   "metadata": {},
   "outputs": [],
   "source": []
  },
  {
   "cell_type": "code",
   "execution_count": null,
   "id": "fecddb31-9406-40dc-8307-540fe07921a0",
   "metadata": {},
   "outputs": [],
   "source": []
  },
  {
   "cell_type": "code",
   "execution_count": null,
   "id": "0cc4f69f-ddd6-47fe-a7e1-7c616854ffdf",
   "metadata": {},
   "outputs": [],
   "source": []
  },
  {
   "cell_type": "code",
   "execution_count": null,
   "id": "ddcab2a1-e1fd-4221-84ae-ce665412e884",
   "metadata": {},
   "outputs": [],
   "source": []
  },
  {
   "cell_type": "code",
   "execution_count": null,
   "id": "37951b1a-00f7-4756-b7ae-b0da623c8ed7",
   "metadata": {},
   "outputs": [],
   "source": []
  },
  {
   "cell_type": "code",
   "execution_count": null,
   "id": "c9e6b62c-6aab-4811-9ac6-ac9d196116a7",
   "metadata": {},
   "outputs": [],
   "source": []
  },
  {
   "cell_type": "code",
   "execution_count": null,
   "id": "d57f9ecc-b6a9-4e39-968c-339a7969ac1d",
   "metadata": {},
   "outputs": [],
   "source": []
  },
  {
   "cell_type": "code",
   "execution_count": null,
   "id": "d5b08f85-4ff6-4e02-ad51-a221ecbb29a8",
   "metadata": {},
   "outputs": [],
   "source": []
  },
  {
   "cell_type": "code",
   "execution_count": null,
   "id": "d3211093-1397-4d43-88a6-042e773d579c",
   "metadata": {},
   "outputs": [],
   "source": []
  },
  {
   "cell_type": "code",
   "execution_count": null,
   "id": "a56237e5-bc73-4d5e-92e4-bf7fb7523bd9",
   "metadata": {},
   "outputs": [],
   "source": []
  },
  {
   "cell_type": "code",
   "execution_count": null,
   "id": "092c57c7-8080-4c79-88bf-0aa3157af6e0",
   "metadata": {},
   "outputs": [],
   "source": []
  },
  {
   "cell_type": "code",
   "execution_count": null,
   "id": "eac25e56-3b82-4876-a1e3-78f7d8cf47c4",
   "metadata": {},
   "outputs": [],
   "source": []
  },
  {
   "cell_type": "code",
   "execution_count": null,
   "id": "933b5d83-e2a4-4d46-bd61-fec6514a0d2a",
   "metadata": {},
   "outputs": [],
   "source": []
  },
  {
   "cell_type": "code",
   "execution_count": null,
   "id": "59a20098-9c46-45e7-b876-04a41c520a81",
   "metadata": {},
   "outputs": [],
   "source": []
  },
  {
   "cell_type": "code",
   "execution_count": null,
   "id": "41199120-9e14-4451-a437-4937b2727700",
   "metadata": {},
   "outputs": [],
   "source": []
  },
  {
   "cell_type": "code",
   "execution_count": null,
   "id": "845f8523-f2a5-475a-8607-6e6aa09d67d2",
   "metadata": {},
   "outputs": [],
   "source": []
  },
  {
   "cell_type": "code",
   "execution_count": null,
   "id": "a0b25f6f-cea1-4b5d-9dec-0740219401da",
   "metadata": {},
   "outputs": [],
   "source": []
  },
  {
   "cell_type": "code",
   "execution_count": null,
   "id": "6eda3f3c-e23d-4557-8a65-b5910f4220a8",
   "metadata": {},
   "outputs": [],
   "source": []
  },
  {
   "cell_type": "code",
   "execution_count": null,
   "id": "b8bb14bf-f5cd-4936-a02b-89a5aafa6219",
   "metadata": {},
   "outputs": [],
   "source": []
  },
  {
   "cell_type": "code",
   "execution_count": null,
   "id": "a9fbd4cc-c9f2-4427-857e-da11229c6f44",
   "metadata": {},
   "outputs": [],
   "source": []
  },
  {
   "cell_type": "code",
   "execution_count": null,
   "id": "f6fc42d3-29d1-4376-ad99-2ddee0c4ba63",
   "metadata": {},
   "outputs": [],
   "source": []
  }
 ],
 "metadata": {
  "kernelspec": {
   "display_name": "Python 3 (ipykernel)",
   "language": "python",
   "name": "python3"
  },
  "language_info": {
   "codemirror_mode": {
    "name": "ipython",
    "version": 3
   },
   "file_extension": ".py",
   "mimetype": "text/x-python",
   "name": "python",
   "nbconvert_exporter": "python",
   "pygments_lexer": "ipython3",
   "version": "3.11.7"
  }
 },
 "nbformat": 4,
 "nbformat_minor": 5
}
