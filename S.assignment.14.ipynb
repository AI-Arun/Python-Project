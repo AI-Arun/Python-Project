{
 "cells": [
  {
   "cell_type": "markdown",
   "id": "460beb0c-a1ab-45e0-8499-f37029352da1",
   "metadata": {},
   "source": [
    "                                                       #Assignment Number 14"
   ]
  },
  {
   "cell_type": "markdown",
   "id": "0aa19378-2290-4042-90af-044a2da332ac",
   "metadata": {},
   "source": [
    "#Question Number 1"
   ]
  },
  {
   "cell_type": "markdown",
   "id": "d4ed65c2-7b20-4d6f-8d66-ecf6b1750799",
   "metadata": {},
   "source": [
    "#WAP to create number series and apply the function, f(x) = x/2 on each and every element of the pandas series."
   ]
  },
  {
   "cell_type": "code",
   "execution_count": 30,
   "id": "67aa3c99-b14b-44cc-b137-e67963b467ef",
   "metadata": {},
   "outputs": [],
   "source": [
    "import pandas as pd"
   ]
  },
  {
   "cell_type": "code",
   "execution_count": 33,
   "id": "e84175ee-7a0a-4561-924d-dabffa402782",
   "metadata": {},
   "outputs": [
    {
     "name": "stdout",
     "output_type": "stream",
     "text": [
      "0      1.0\n",
      "1      2.0\n",
      "2      3.0\n",
      "3      4.0\n",
      "4      5.0\n",
      "5      6.0\n",
      "6      7.0\n",
      "7      8.0\n",
      "8      9.0\n",
      "9     10.0\n",
      "10    11.0\n",
      "11    12.0\n",
      "dtype: float64\n"
     ]
    }
   ],
   "source": [
    "Original_data =pd.Series([2,4,6,8,10,12,14,16,18,20,22,24])\n",
    "def f(x):\n",
    "    return x/2\n",
    "Divided_series = Original_data.apply(f)\n",
    "print(Divided_series)"
   ]
  },
  {
   "cell_type": "markdown",
   "id": "f1b825c4-2b05-413a-a157-724e25c57959",
   "metadata": {},
   "source": [
    "#Question Number 2"
   ]
  },
  {
   "cell_type": "code",
   "execution_count": 36,
   "id": "c2b5a4dd-5339-440b-ab4d-7424123315c3",
   "metadata": {},
   "outputs": [
    {
     "data": {
      "text/html": [
       "<div>\n",
       "<style scoped>\n",
       "    .dataframe tbody tr th:only-of-type {\n",
       "        vertical-align: middle;\n",
       "    }\n",
       "\n",
       "    .dataframe tbody tr th {\n",
       "        vertical-align: top;\n",
       "    }\n",
       "\n",
       "    .dataframe thead th {\n",
       "        text-align: right;\n",
       "    }\n",
       "</style>\n",
       "<table border=\"1\" class=\"dataframe\">\n",
       "  <thead>\n",
       "    <tr style=\"text-align: right;\">\n",
       "      <th></th>\n",
       "      <th>Name</th>\n",
       "      <th>Age</th>\n",
       "      <th>Occ</th>\n",
       "    </tr>\n",
       "  </thead>\n",
       "  <tbody>\n",
       "    <tr>\n",
       "      <th>0</th>\n",
       "      <td>Vinay</td>\n",
       "      <td>22</td>\n",
       "      <td>engineer</td>\n",
       "    </tr>\n",
       "    <tr>\n",
       "      <th>1</th>\n",
       "      <td>Kushal</td>\n",
       "      <td>25</td>\n",
       "      <td>doctor</td>\n",
       "    </tr>\n",
       "    <tr>\n",
       "      <th>2</th>\n",
       "      <td>Aman</td>\n",
       "      <td>24</td>\n",
       "      <td>accountant</td>\n",
       "    </tr>\n",
       "  </tbody>\n",
       "</table>\n",
       "</div>"
      ],
      "text/plain": [
       "     Name  Age         Occ\n",
       "0   Vinay   22    engineer\n",
       "1  Kushal   25      doctor\n",
       "2    Aman   24  accountant"
      ]
     },
     "execution_count": 36,
     "metadata": {},
     "output_type": "execute_result"
    }
   ],
   "source": [
    "#WAP to convert given a dictionary into corresponding dataframe and display it.\n",
    "\n",
    "dictionary = pd.DataFrame({'Name': ['Vinay', 'Kushal', 'Aman'],\n",
    "\n",
    "          \t            'Age' : [22, 25, 24],\n",
    "\n",
    "          \t            'Occ' : ['engineer', 'doctor', 'accountant']})\n",
    "dictionary"
   ]
  },
  {
   "cell_type": "code",
   "execution_count": null,
   "id": "1fbb3019-b7d2-4064-8bf1-cbb42002f7fa",
   "metadata": {},
   "outputs": [],
   "source": []
  },
  {
   "cell_type": "code",
   "execution_count": null,
   "id": "17ce0224-3f7f-426c-ae4f-1a3e88e600f1",
   "metadata": {},
   "outputs": [],
   "source": []
  }
 ],
 "metadata": {
  "kernelspec": {
   "display_name": "Python 3 (ipykernel)",
   "language": "python",
   "name": "python3"
  },
  "language_info": {
   "codemirror_mode": {
    "name": "ipython",
    "version": 3
   },
   "file_extension": ".py",
   "mimetype": "text/x-python",
   "name": "python",
   "nbconvert_exporter": "python",
   "pygments_lexer": "ipython3",
   "version": "3.11.7"
  }
 },
 "nbformat": 4,
 "nbformat_minor": 5
}
