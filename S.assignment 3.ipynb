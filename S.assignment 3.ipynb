{
 "cells": [
  {
   "cell_type": "code",
   "execution_count": 16,
   "id": "e552993f-3317-4f29-849e-43563c3b2eba",
   "metadata": {},
   "outputs": [
    {
     "name": "stdout",
     "output_type": "stream",
     "text": [
      "Updated tuple : (11, 22, [33, 444, 55], 66, 77)\n"
     ]
    }
   ],
   "source": [
    "#Question No 1 Write a program to modify the first item (44) of a list inside a following tuple to 444.\n",
    "tuple1 = (11, 22, [33, 44, 55],66,77)\n",
    "tuple1[2][1]=444\n",
    "print(\"Updated tuple :\",tuple1)"
   ]
  },
  {
   "cell_type": "code",
   "execution_count": 108,
   "id": "8cbc664e-b4b9-4e74-b77a-88eca7e3b22d",
   "metadata": {},
   "outputs": [
    {
     "name": "stdout",
     "output_type": "stream",
     "text": [
      "My name is Kelly "
     ]
    }
   ],
   "source": [
    "#Question No 2 Write a program to add two lists index-wise. Create a new list that contains the 0th index item from both the list, then the 1st index item, and so on till the last element. any leftover items will get added at the end of the new list\n",
    "list1=[\"M\", \"na\", \"i\", \"Ke\"]   \n",
    "list2=[\"y\", \"me\", \"s\", \"lly\"]\n",
    "for i,j in zip(list1,list2):\n",
    "    print(i+j,end=\" \")\n"
   ]
  },
  {
   "cell_type": "code",
   "execution_count": 105,
   "id": "e327f4b4-7829-400c-9bc8-5eb80c85a18d",
   "metadata": {},
   "outputs": [
    {
     "name": "stdout",
     "output_type": "stream",
     "text": [
      "Updated Dist; {'emp1': {'name': 'Jhon', 'salary': 75000}, 'emp2': {'name': 'Emma', 'salary': 80000}, 'emp3': {'name': 'Brad', 'salary': 85000}}\n"
     ]
    }
   ],
   "source": [
    "#question no 3 #Write a Python program to change Brad’s salary to 85000 in the following dictionary.\n",
    "sample_dict = {'emp1': {'name': 'Jhon', 'salary': 75000},'emp2': {'name': 'Emma', 'salary': 80000},'emp3': {'name': 'Brad', 'salary': 500}}\n",
    "sample_dict['emp3']['salary'] = 85000\n",
    "print(\"Updated Dist;\",sample_dict)"
   ]
  },
  {
   "cell_type": "code",
   "execution_count": 107,
   "id": "a69266ac-469a-4f39-bae6-10f711604ace",
   "metadata": {},
   "outputs": [
    {
     "name": "stdout",
     "output_type": "stream",
     "text": [
      "List of values which are in a or b ,but not  both: {10, 80, 20, 90, 30}\n"
     ]
    }
   ],
   "source": [
    "#question no 4 WAP to Return a set of elements present in Set A or B, but not both.\n",
    "set1 = {10, 20, 30, 40, 50,60,70}                 \n",
    "set2 = {40, 50, 60, 70,80,90}\n",
    "difference = set1.symmetric_difference(set2)\n",
    "sorted_difference = set(sorted(difference))\n",
    "print(\"List of values which are in a or b ,but not  both:\",sorted_difference)\n"
   ]
  },
  {
   "cell_type": "code",
   "execution_count": null,
   "id": "c07261b0-29e1-452b-9df1-f787a349974e",
   "metadata": {},
   "outputs": [],
   "source": []
  },
  {
   "cell_type": "code",
   "execution_count": null,
   "id": "abc86513-381a-4e7a-8261-d8c7b55b75e5",
   "metadata": {},
   "outputs": [],
   "source": []
  }
 ],
 "metadata": {
  "kernelspec": {
   "display_name": "Python 3 (ipykernel)",
   "language": "python",
   "name": "python3"
  },
  "language_info": {
   "codemirror_mode": {
    "name": "ipython",
    "version": 3
   },
   "file_extension": ".py",
   "mimetype": "text/x-python",
   "name": "python",
   "nbconvert_exporter": "python",
   "pygments_lexer": "ipython3",
   "version": "3.11.7"
  }
 },
 "nbformat": 4,
 "nbformat_minor": 5
}
