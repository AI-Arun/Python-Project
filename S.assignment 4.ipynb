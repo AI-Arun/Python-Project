{
 "cells": [
  {
   "cell_type": "code",
   "execution_count": 7,
   "id": "3b170237-3dd5-42ad-af85-7994e03d24f9",
   "metadata": {},
   "outputs": [
    {
     "name": "stdin",
     "output_type": "stream",
     "text": [
      "Enter your age 45\n",
      "write your gender(M or F) m\n",
      "marital status(Y or N) n\n"
     ]
    },
    {
     "name": "stdout",
     "output_type": "stream",
     "text": [
      "He will work in Urban Only\n"
     ]
    }
   ],
   "source": [
    "#Question no 1 #WAP to Ask users to enter age, gender (M or F), marital status (Y or N) and then using following rules print their place of service.\n",
    "#If the employee is female, then she will work only in urban areas.\n",
    "#If employee is a male and age is in between 20 to 40 then he may work in anywhere\n",
    "#If the employee is male and age is between 40 to 60 then he will work in urban areas only.\n",
    "#And any other input of age should print \"ERROR\".\n",
    "\n",
    "age = int(input(\"Enter your age\"))\n",
    "gender = input(\"write your gender(M or F)\").upper()\n",
    "marital_status= input(\"marital status(Y or N)\").upper()\n",
    "if gender == \"F\":\n",
    "    print(\"She will work in Urban only\")\n",
    "elif gender==\"M\" and 20<=age<=40:\n",
    "    print(\"He will work Anywhere\")\n",
    "elif gender==\"M\" and 40<=age<=60:\n",
    "    print(\"He will work in Urban Only\")\n",
    "else:\n",
    "    print(\"Error\")\n"
   ]
  },
  {
   "cell_type": "code",
   "execution_count": null,
   "id": "e2d7e5e3-29d1-474a-806d-06e3cb8675fc",
   "metadata": {},
   "outputs": [],
   "source": []
  },
  {
   "cell_type": "code",
   "execution_count": null,
   "id": "ea32aa3e-4fac-40e0-b213-34f312289b87",
   "metadata": {},
   "outputs": [],
   "source": []
  },
  {
   "cell_type": "code",
   "execution_count": null,
   "id": "06b02c2c-a41f-48c6-80fd-fd1781606e1b",
   "metadata": {},
   "outputs": [],
   "source": []
  },
  {
   "cell_type": "code",
   "execution_count": null,
   "id": "8c64c979-487d-4d7b-8321-384dc6f8f607",
   "metadata": {},
   "outputs": [],
   "source": []
  },
  {
   "cell_type": "code",
   "execution_count": null,
   "id": "b1c69689-5f5a-4c31-b2fe-171c5402552d",
   "metadata": {},
   "outputs": [],
   "source": []
  },
  {
   "cell_type": "code",
   "execution_count": null,
   "id": "e0f027f2-edfb-460f-ad9b-3706bfef1aec",
   "metadata": {},
   "outputs": [],
   "source": []
  },
  {
   "cell_type": "code",
   "execution_count": null,
   "id": "1cd25a7f-69e3-4d41-aa73-5cde4cf5fe89",
   "metadata": {},
   "outputs": [],
   "source": []
  },
  {
   "cell_type": "code",
   "execution_count": null,
   "id": "adc3e996-70c2-4d48-a38a-3461b93f5b85",
   "metadata": {},
   "outputs": [],
   "source": []
  },
  {
   "cell_type": "code",
   "execution_count": null,
   "id": "ce9744a8-7cad-45a7-8b08-bac36af89abb",
   "metadata": {},
   "outputs": [],
   "source": []
  }
 ],
 "metadata": {
  "kernelspec": {
   "display_name": "Python 3 (ipykernel)",
   "language": "python",
   "name": "python3"
  },
  "language_info": {
   "codemirror_mode": {
    "name": "ipython",
    "version": 3
   },
   "file_extension": ".py",
   "mimetype": "text/x-python",
   "name": "python",
   "nbconvert_exporter": "python",
   "pygments_lexer": "ipython3",
   "version": "3.11.7"
  }
 },
 "nbformat": 4,
 "nbformat_minor": 5
}
