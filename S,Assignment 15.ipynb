{
 "cells": [
  {
   "cell_type": "markdown",
   "id": "53e1a729-9f4e-4592-a99a-5d5dd23124ae",
   "metadata": {},
   "source": [
    "                                                    #Assignment number 15"
   ]
  },
  {
   "cell_type": "markdown",
   "id": "1f74e496-b66a-4527-a4a6-fa344f0c0400",
   "metadata": {},
   "source": [
    "#Question no 1\n",
    "#WAP to convert the values of Profit column such that values in it greater than 0 are set to True and the rest are set to False."
   ]
  },
  {
   "cell_type": "code",
   "execution_count": 1,
   "id": "cdfa63d3-d6d3-4b0a-b895-db4755b0dd34",
   "metadata": {},
   "outputs": [],
   "source": [
    "import pandas as pd"
   ]
  },
  {
   "cell_type": "code",
   "execution_count": 13,
   "id": "73e70d82-f86b-46de-8171-39b4664cf6c0",
   "metadata": {},
   "outputs": [
    {
     "name": "stdout",
     "output_type": "stream",
     "text": [
      "0    False\n",
      "1     True\n",
      "2    False\n",
      "3     True\n",
      "4     True\n",
      "Name: Profit, dtype: bool\n"
     ]
    }
   ],
   "source": [
    "DF = pd.DataFrame({\"Cname\":['Shyam & Co.','Ramlal & Bros.','Sharma Enterprises','Verma Furnitures','Rahul Stores'],\n",
    "                   \"Profit\":[-10000,10000,-5000,15000,20000]})\n",
    "DF1 = DF[\"Profit\"]=DF[\"Profit\"]>0\n",
    "print(DF1)\n",
    "                   "
   ]
  },
  {
   "cell_type": "code",
   "execution_count": null,
   "id": "8a578193-01bd-4ca7-b9d4-affe7946459c",
   "metadata": {},
   "outputs": [],
   "source": []
  },
  {
   "cell_type": "code",
   "execution_count": null,
   "id": "23fdde63-ada3-4541-bc31-90c0ad32140f",
   "metadata": {},
   "outputs": [],
   "source": [
    "#Question no 2\n",
    "WAP to generate the statistical summary of all the numerical features present in the given dataframe.\n",
    "\n",
    "eid                         ename                 stipend               position\n",
    "\n",
    "0    1                         Sid                       10000                employee\n",
    "\n",
    "1    2                         Ramesh             10000               employee\n",
    "\n",
    "2    3                        Ron                       5000                 intern\n",
    "\n",
    "3    4                        Harry                   15000                senior_employee"
   ]
  },
  {
   "cell_type": "code",
   "execution_count": 15,
   "id": "0d963be7-85e3-4d5c-bb7b-58a13769c297",
   "metadata": {},
   "outputs": [
    {
     "data": {
      "text/html": [
       "<div>\n",
       "<style scoped>\n",
       "    .dataframe tbody tr th:only-of-type {\n",
       "        vertical-align: middle;\n",
       "    }\n",
       "\n",
       "    .dataframe tbody tr th {\n",
       "        vertical-align: top;\n",
       "    }\n",
       "\n",
       "    .dataframe thead th {\n",
       "        text-align: right;\n",
       "    }\n",
       "</style>\n",
       "<table border=\"1\" class=\"dataframe\">\n",
       "  <thead>\n",
       "    <tr style=\"text-align: right;\">\n",
       "      <th></th>\n",
       "      <th>eid</th>\n",
       "      <th>ename</th>\n",
       "      <th>stipend</th>\n",
       "      <th>position</th>\n",
       "    </tr>\n",
       "  </thead>\n",
       "  <tbody>\n",
       "    <tr>\n",
       "      <th>0</th>\n",
       "      <td>1</td>\n",
       "      <td>Sid</td>\n",
       "      <td>10000</td>\n",
       "      <td>employee</td>\n",
       "    </tr>\n",
       "    <tr>\n",
       "      <th>1</th>\n",
       "      <td>2</td>\n",
       "      <td>Ramesh</td>\n",
       "      <td>10000</td>\n",
       "      <td>employee</td>\n",
       "    </tr>\n",
       "    <tr>\n",
       "      <th>2</th>\n",
       "      <td>3</td>\n",
       "      <td>Ron</td>\n",
       "      <td>5000</td>\n",
       "      <td>intern</td>\n",
       "    </tr>\n",
       "    <tr>\n",
       "      <th>3</th>\n",
       "      <td>4</td>\n",
       "      <td>Harry</td>\n",
       "      <td>15000</td>\n",
       "      <td>senior_employee</td>\n",
       "    </tr>\n",
       "  </tbody>\n",
       "</table>\n",
       "</div>"
      ],
      "text/plain": [
       "   eid   ename  stipend         position\n",
       "0    1     Sid    10000         employee\n",
       "1    2  Ramesh    10000         employee\n",
       "2    3     Ron     5000           intern\n",
       "3    4   Harry    15000  senior_employee"
      ]
     },
     "execution_count": 15,
     "metadata": {},
     "output_type": "execute_result"
    }
   ],
   "source": [
    "Emp_details=pd.DataFrame({\"eid\":[1,2,3,4],\"ename\":[\"Sid\",\"Ramesh\",\"Ron\",\"Harry\"],\"stipend\":[10000,10000,5000,15000],\n",
    "                          \"position\":[\"employee\",\"employee\",\"intern\",\"senior_employee\"]})\n",
    "Emp_details"
   ]
  },
  {
   "cell_type": "code",
   "execution_count": 19,
   "id": "73fec981-f9c2-4a60-acd7-233356ac8701",
   "metadata": {},
   "outputs": [
    {
     "data": {
      "text/html": [
       "<div>\n",
       "<style scoped>\n",
       "    .dataframe tbody tr th:only-of-type {\n",
       "        vertical-align: middle;\n",
       "    }\n",
       "\n",
       "    .dataframe tbody tr th {\n",
       "        vertical-align: top;\n",
       "    }\n",
       "\n",
       "    .dataframe thead th {\n",
       "        text-align: right;\n",
       "    }\n",
       "</style>\n",
       "<table border=\"1\" class=\"dataframe\">\n",
       "  <thead>\n",
       "    <tr style=\"text-align: right;\">\n",
       "      <th></th>\n",
       "      <th>eid</th>\n",
       "      <th>stipend</th>\n",
       "    </tr>\n",
       "  </thead>\n",
       "  <tbody>\n",
       "    <tr>\n",
       "      <th>count</th>\n",
       "      <td>4.000000</td>\n",
       "      <td>4.000000</td>\n",
       "    </tr>\n",
       "    <tr>\n",
       "      <th>mean</th>\n",
       "      <td>2.500000</td>\n",
       "      <td>10000.000000</td>\n",
       "    </tr>\n",
       "    <tr>\n",
       "      <th>std</th>\n",
       "      <td>1.290994</td>\n",
       "      <td>4082.482905</td>\n",
       "    </tr>\n",
       "    <tr>\n",
       "      <th>min</th>\n",
       "      <td>1.000000</td>\n",
       "      <td>5000.000000</td>\n",
       "    </tr>\n",
       "    <tr>\n",
       "      <th>25%</th>\n",
       "      <td>1.750000</td>\n",
       "      <td>8750.000000</td>\n",
       "    </tr>\n",
       "    <tr>\n",
       "      <th>50%</th>\n",
       "      <td>2.500000</td>\n",
       "      <td>10000.000000</td>\n",
       "    </tr>\n",
       "    <tr>\n",
       "      <th>75%</th>\n",
       "      <td>3.250000</td>\n",
       "      <td>11250.000000</td>\n",
       "    </tr>\n",
       "    <tr>\n",
       "      <th>max</th>\n",
       "      <td>4.000000</td>\n",
       "      <td>15000.000000</td>\n",
       "    </tr>\n",
       "  </tbody>\n",
       "</table>\n",
       "</div>"
      ],
      "text/plain": [
       "            eid       stipend\n",
       "count  4.000000      4.000000\n",
       "mean   2.500000  10000.000000\n",
       "std    1.290994   4082.482905\n",
       "min    1.000000   5000.000000\n",
       "25%    1.750000   8750.000000\n",
       "50%    2.500000  10000.000000\n",
       "75%    3.250000  11250.000000\n",
       "max    4.000000  15000.000000"
      ]
     },
     "execution_count": 19,
     "metadata": {},
     "output_type": "execute_result"
    }
   ],
   "source": [
    "Emp_details.describe()"
   ]
  },
  {
   "cell_type": "code",
   "execution_count": null,
   "id": "4ea2279f-5bea-4e73-9e6b-cfb0a726ebc3",
   "metadata": {},
   "outputs": [],
   "source": []
  }
 ],
 "metadata": {
  "kernelspec": {
   "display_name": "Python 3 (ipykernel)",
   "language": "python",
   "name": "python3"
  },
  "language_info": {
   "codemirror_mode": {
    "name": "ipython",
    "version": 3
   },
   "file_extension": ".py",
   "mimetype": "text/x-python",
   "name": "python",
   "nbconvert_exporter": "python",
   "pygments_lexer": "ipython3",
   "version": "3.11.7"
  }
 },
 "nbformat": 4,
 "nbformat_minor": 5
}
