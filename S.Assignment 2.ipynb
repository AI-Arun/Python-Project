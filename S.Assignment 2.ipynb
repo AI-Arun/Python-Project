{
 "cells": [
  {
   "cell_type": "code",
   "execution_count": 36,
   "id": "09cd1b3f-9ede-4a61-8c4e-d4e24170d9d7",
   "metadata": {},
   "outputs": [
    {
     "name": "stdout",
     "output_type": "stream",
     "text": [
      "12 16\n"
     ]
    }
   ],
   "source": [
    "#Write a program to find all occurrences of “USA” in a given string ignoring the case.\n",
    "str1=\"wellcome to USA.usa is awesome,isn't it?\"\n",
    "index = str1.find(\"USA\")\n",
    "index1 = str1.find(\"usa\")\n",
    "print(index,index1)"
   ]
  },
  {
   "cell_type": "code",
   "execution_count": 41,
   "id": "ec566ae5-7b4f-48e7-bdb8-c40b072fd746",
   "metadata": {},
   "outputs": [
    {
     "name": "stdout",
     "output_type": "stream",
     "text": [
      "['Emma', 'is', 'a', 'Data', 'scientist']\n"
     ]
    }
   ],
   "source": [
    "#Write a program to split a given string on hyphens and display each substring.\n",
    "str1=\"Emma-is-a-Data-scientist\"\n",
    "print(str1.split(\"-\"))"
   ]
  },
  {
   "cell_type": "code",
   "execution_count": null,
   "id": "a56c1822-dd77-4665-823b-d71340394872",
   "metadata": {},
   "outputs": [],
   "source": []
  },
  {
   "cell_type": "code",
   "execution_count": null,
   "id": "d7f83552-3a60-4d44-aa14-64bc7b4c17cb",
   "metadata": {},
   "outputs": [],
   "source": []
  }
 ],
 "metadata": {
  "kernelspec": {
   "display_name": "Python 3 (ipykernel)",
   "language": "python",
   "name": "python3"
  },
  "language_info": {
   "codemirror_mode": {
    "name": "ipython",
    "version": 3
   },
   "file_extension": ".py",
   "mimetype": "text/x-python",
   "name": "python",
   "nbconvert_exporter": "python",
   "pygments_lexer": "ipython3",
   "version": "3.11.7"
  }
 },
 "nbformat": 4,
 "nbformat_minor": 5
}
