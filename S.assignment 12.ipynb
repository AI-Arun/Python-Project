{
 "cells": [
  {
   "cell_type": "code",
   "execution_count": null,
   "id": "e8216d63-c58b-4214-adf6-37b12ce26e6f",
   "metadata": {},
   "outputs": [],
   "source": [
    "#WAP Scrape the following data from Amazon and save the data extracted in the CSV file.\n",
    "#Price, Amount, Description of a Mobile phone of any company.\n",
    "\n"
   ]
  },
  {
   "cell_type": "code",
   "execution_count": 22,
   "id": "5128f1c3-501d-425f-b475-a1f3a27396ee",
   "metadata": {},
   "outputs": [
    {
     "name": "stdout",
     "output_type": "stream",
     "text": [
      "Data has been written to amazon_products.csv\n"
     ]
    }
   ],
   "source": [
    "\n",
    "import requests\n",
    "from bs4 import BeautifulSoup\n",
    "import pandas as pd\n",
    "\n",
    "# URL of the Amazon search page\n",
    "url = \"https://www.amazon.in/s?bbn=1389432031&rh=n%3A976419031%2Cn%3A1389401031%2Cn%3A1389432031%2Cn%3A1805560031&dc&qid=1716875212&rnid=1389432031&ref=lp_1389432031_nr_n_1\"\n",
    "\n",
    "headers = {\n",
    "    \"User-Agent\": \"Mozilla/5.0 (Windows NT 10.0; Win64; x64) AppleWebKit/537.36 (KHTML, like Gecko) Chrome/91.0.4472.124 Safari/537.36\"\n",
    "}\n",
    "\n",
    "response = requests.get(url, headers=headers)\n",
    "soup = BeautifulSoup(response.content, 'html.parser')\n",
    "\n",
    "# Extract data\n",
    "items = soup.find_all('div', {'data-component-type': 's-search-result'})\n",
    "\n",
    "data = []\n",
    "for item in items:\n",
    "    title = item.h2.text.strip() if item.h2 else \"N/A\"\n",
    "    price = item.find('span', 'a-price-whole')\n",
    "    price = price.text.strip() if price else \"N/A\"\n",
    "    amount = item.find('span', 'a-size-base')\n",
    "    amount = amount.text.strip() if amount else \"N/A\"\n",
    "    description = item.find('span', 'a-size-medium')\n",
    "    description = description.text.strip() if description else \"N/A\"\n",
    "    data.append({\n",
    "        'Title': title,\n",
    "        'Price': price,\n",
    "        'Amount': amount,\n",
    "        'Description': description\n",
    "    })\n",
    "\n",
    "# Save data to a CSV file\n",
    "df = pd.DataFrame(data)\n",
    "df.to_csv('amazon_products.csv', index=False)\n",
    "\n",
    "print(\"Data has been written to amazon_products.csv\")\n"
   ]
  },
  {
   "cell_type": "code",
   "execution_count": null,
   "id": "60f694fa-7b7a-4bf9-8f8a-a4f9333caa77",
   "metadata": {},
   "outputs": [],
   "source": []
  },
  {
   "cell_type": "code",
   "execution_count": null,
   "id": "2654030c-4054-48c9-9cb2-cceb68da9cc3",
   "metadata": {},
   "outputs": [],
   "source": []
  },
  {
   "cell_type": "code",
   "execution_count": null,
   "id": "56d5fb43-ca17-49b1-96ba-f88709577fa7",
   "metadata": {},
   "outputs": [],
   "source": []
  },
  {
   "cell_type": "code",
   "execution_count": null,
   "id": "bc1af928-79eb-4bda-8dff-b438fc594241",
   "metadata": {},
   "outputs": [],
   "source": []
  },
  {
   "cell_type": "code",
   "execution_count": null,
   "id": "b6c91f36-0084-49b8-bcee-03001b46b807",
   "metadata": {},
   "outputs": [],
   "source": []
  }
 ],
 "metadata": {
  "kernelspec": {
   "display_name": "Python 3 (ipykernel)",
   "language": "python",
   "name": "python3"
  },
  "language_info": {
   "codemirror_mode": {
    "name": "ipython",
    "version": 3
   },
   "file_extension": ".py",
   "mimetype": "text/x-python",
   "name": "python",
   "nbconvert_exporter": "python",
   "pygments_lexer": "ipython3",
   "version": "3.11.7"
  }
 },
 "nbformat": 4,
 "nbformat_minor": 5
}
