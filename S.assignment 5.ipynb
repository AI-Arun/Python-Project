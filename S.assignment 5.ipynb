{
 "cells": [
  {
   "cell_type": "code",
   "execution_count": null,
   "id": "e1a16072-e939-45a7-a268-f1992ab0a94a",
   "metadata": {},
   "outputs": [],
   "source": [
    "#question no 1 #Write a program to print the following number pattern using a for loop.\n",
    "1\n",
    "1 2\n",
    "1 2 3\n",
    "1 2 3 4\n",
    "1 2 3 4 5"
   ]
  },
  {
   "cell_type": "code",
   "execution_count": 10,
   "id": "dd71bc46-8318-451b-99dd-97469de25a53",
   "metadata": {},
   "outputs": [
    {
     "name": "stdout",
     "output_type": "stream",
     "text": [
      "1 \n",
      "1 2 \n",
      "1 2 3 \n",
      "1 2 3 4 \n",
      "1 2 3 4 5 \n"
     ]
    }
   ],
   "source": [
    "for i in range(1,6):\n",
    "    for j in range (1,i+1):\n",
    "        print(j,end=' ')\n",
    "    print()"
   ]
  },
  {
   "cell_type": "code",
   "execution_count": 27,
   "id": "6c5aee43-2b6f-476a-924a-0641d8bcd364",
   "metadata": {},
   "outputs": [
    {
     "name": "stdin",
     "output_type": "stream",
     "text": [
      "Enter the number of terms:  5\n"
     ]
    },
    {
     "name": "stdout",
     "output_type": "stream",
     "text": [
      "2 + 22 + 222 + 2222 + 22222 = 24690\n"
     ]
    }
   ],
   "source": [
    "#Question no 2 #Write a program to calculate the sum of series up to n term. For example, if n =5 the series will become \n",
    "#2 + 22 + 222 + 2222 + 22222 = 24690\n",
    "\n",
    "n = int(input(\"Enter the number of terms: \"))\n",
    "sum_series = 0\n",
    "current_term = 0\n",
    "    \n",
    "for i in range(1,n+1):                         #1          #2          #3            #4                #5\n",
    "    current_term = current_term * 10 + 2       #2=0*10+2   #22=2*10+2  #222=22*10+2  #2222=222*10+2    #22222=2222*10+2\n",
    "    sum_series += current_term                 #0+2=2      #2+22=24    #222+24=246   #2222+246=2468    #22222+2468=24690\n",
    "    if i ==1:\n",
    "        print(current_term,end=\" \")            #1==1       #2!=1       #3!=1         #4!=1             #5!=1\n",
    "    else:\n",
    "        print(\"+\",current_term,end=\" \")        #2          #+ 22       #+ 222       #+ 2222            #+ 22222              #= 24690\n",
    "print(\"=\",sum_series)"
   ]
  }
 ],
 "metadata": {
  "kernelspec": {
   "display_name": "Python 3 (ipykernel)",
   "language": "python",
   "name": "python3"
  },
  "language_info": {
   "codemirror_mode": {
    "name": "ipython",
    "version": 3
   },
   "file_extension": ".py",
   "mimetype": "text/x-python",
   "name": "python",
   "nbconvert_exporter": "python",
   "pygments_lexer": "ipython3",
   "version": "3.11.7"
  }
 },
 "nbformat": 4,
 "nbformat_minor": 5
}
