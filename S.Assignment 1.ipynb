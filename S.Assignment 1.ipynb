{
 "cells": [
  {
   "cell_type": "code",
   "execution_count": 4,
   "id": "6cd37c68-3837-44af-85ce-0d3ce0c70916",
   "metadata": {},
   "outputs": [
    {
     "name": "stdout",
     "output_type": "stream",
     "text": [
      "x= 2 y= 5\n"
     ]
    }
   ],
   "source": [
    "#Question:1\n",
    "x = 4   # assigned value to x variable\n",
    "y = x + 1  # assigned value to y variable as x(4)+1=5\n",
    "x = 2       # overwrite the value in x variable(4 to 2)\n",
    "print( \"x=\",x,\"y=\",y) # output will be x=2 ans y = 3(2+1)"
   ]
  },
  {
   "cell_type": "code",
   "execution_count": 9,
   "id": "baab4aed-063c-490c-84d5-1030b961bc85",
   "metadata": {},
   "outputs": [
    {
     "name": "stdout",
     "output_type": "stream",
     "text": [
      "hello,world!hello,world!hello,world!hello,world!\n"
     ]
    }
   ],
   "source": [
    "#Question:2 Create a python script to print hello, world! four times.\n",
    "#option1\n",
    "print(\"hello,world!\"*4)"
   ]
  },
  {
   "cell_type": "code",
   "execution_count": 10,
   "id": "28da85e1-f404-45dc-914b-4ea35b80d553",
   "metadata": {},
   "outputs": [
    {
     "name": "stdout",
     "output_type": "stream",
     "text": [
      "hello,world!\n",
      "hello,world!\n",
      "hello,world!\n",
      "hello,world!\n"
     ]
    }
   ],
   "source": [
    "#option2 using for loop\n",
    "for i in range(4):\n",
    "    print(\"hello,world!\")"
   ]
  },
  {
   "cell_type": "code",
   "execution_count": null,
   "id": "5d964cf2-fefa-4673-8cb2-f3558919c3ef",
   "metadata": {},
   "outputs": [],
   "source": []
  },
  {
   "cell_type": "code",
   "execution_count": null,
   "id": "b82535e5-36ad-4029-bdca-b46e069a369c",
   "metadata": {},
   "outputs": [],
   "source": []
  },
  {
   "cell_type": "code",
   "execution_count": null,
   "id": "1770ae18-e818-4254-a6e6-658acb1f2cb7",
   "metadata": {},
   "outputs": [],
   "source": []
  },
  {
   "cell_type": "code",
   "execution_count": null,
   "id": "3ad17d48-f7ee-4ecd-b6d9-9be18cea525a",
   "metadata": {},
   "outputs": [],
   "source": []
  },
  {
   "cell_type": "code",
   "execution_count": null,
   "id": "9480365c-12b2-4924-b8ea-1713921ceca3",
   "metadata": {},
   "outputs": [],
   "source": []
  },
  {
   "cell_type": "code",
   "execution_count": null,
   "id": "75046fa5-c1de-42d8-8750-4535d0a4e2cf",
   "metadata": {},
   "outputs": [],
   "source": []
  },
  {
   "cell_type": "code",
   "execution_count": null,
   "id": "65495b44-e4fa-43e6-93d2-963dafa2c555",
   "metadata": {},
   "outputs": [],
   "source": []
  },
  {
   "cell_type": "code",
   "execution_count": null,
   "id": "9b557608-299f-4247-917c-af3582c674f4",
   "metadata": {},
   "outputs": [],
   "source": []
  }
 ],
 "metadata": {
  "kernelspec": {
   "display_name": "Python 3 (ipykernel)",
   "language": "python",
   "name": "python3"
  },
  "language_info": {
   "codemirror_mode": {
    "name": "ipython",
    "version": 3
   },
   "file_extension": ".py",
   "mimetype": "text/x-python",
   "name": "python",
   "nbconvert_exporter": "python",
   "pygments_lexer": "ipython3",
   "version": "3.11.7"
  }
 },
 "nbformat": 4,
 "nbformat_minor": 5
}
