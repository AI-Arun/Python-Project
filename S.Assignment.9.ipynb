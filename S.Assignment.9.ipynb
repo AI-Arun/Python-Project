{
 "cells": [
  {
   "cell_type": "code",
   "execution_count": 1,
   "id": "46175331-1e03-4f15-9032-74f1132016a5",
   "metadata": {},
   "outputs": [
    {
     "name": "stdout",
     "output_type": "stream",
     "text": [
      "Color: White, Vehicle name: School Volvo, Speed: 180, Mileage: 12\n",
      "Color: White, Vehicle name: Audi Q5, Speed: 240, Mileage: 18\n"
     ]
    }
   ],
   "source": [
    "#WAP to Define a class attribute”color” with a default value white. I.e., Every Vehicle should be white.\n",
    "\n",
    "class Vehicle:\n",
    "    color = \"White\"\n",
    "    def __init__(self, name, speed, mileage):\n",
    "        self.name = name\n",
    "        self.speed = speed\n",
    "        self.mileage = mileage\n",
    "\n",
    "    def display_info(self):\n",
    "        print(f\"Color: {Vehicle.color}, Vehicle name: {self.name}, Speed: {self.speed}, Mileage: {self.mileage}\")\n",
    "\n",
    "vehicle1 = Vehicle(\"School Volvo\", 180, 12)\n",
    "vehicle2 = Vehicle(\"Audi Q5\", 240, 18)\n",
    "vehicle1.display_info()\n",
    "vehicle2.display_info()\n"
   ]
  },
  {
   "cell_type": "code",
   "execution_count": null,
   "id": "dd60ad4f-2eb2-4269-864f-a1264c71cef5",
   "metadata": {},
   "outputs": [],
   "source": []
  },
  {
   "cell_type": "code",
   "execution_count": null,
   "id": "dcb71e22-1507-422e-a837-30acc3a0178b",
   "metadata": {},
   "outputs": [],
   "source": []
  },
  {
   "cell_type": "code",
   "execution_count": null,
   "id": "aea79a49-33dd-4705-b51d-3b2a46deb390",
   "metadata": {},
   "outputs": [],
   "source": []
  },
  {
   "cell_type": "code",
   "execution_count": null,
   "id": "e08dc26c-c91d-4272-a485-a2f88b191db8",
   "metadata": {},
   "outputs": [],
   "source": []
  },
  {
   "cell_type": "code",
   "execution_count": null,
   "id": "30f5a968-49c1-4475-886e-2889deeb985b",
   "metadata": {},
   "outputs": [],
   "source": []
  },
  {
   "cell_type": "code",
   "execution_count": null,
   "id": "aecdfa60-277b-4f18-86d0-6828c9d62602",
   "metadata": {},
   "outputs": [],
   "source": []
  },
  {
   "cell_type": "code",
   "execution_count": null,
   "id": "e8f8a3a9-cb73-4428-979d-0bffa769da51",
   "metadata": {},
   "outputs": [],
   "source": []
  },
  {
   "cell_type": "code",
   "execution_count": null,
   "id": "fb8da788-e08a-4b51-b9eb-a04045af0055",
   "metadata": {},
   "outputs": [],
   "source": []
  },
  {
   "cell_type": "code",
   "execution_count": null,
   "id": "041a9e77-888f-4c86-819f-3844fe8ff0f8",
   "metadata": {},
   "outputs": [],
   "source": []
  },
  {
   "cell_type": "code",
   "execution_count": null,
   "id": "a635fafa-4cc0-4a75-830f-bc25680e95d6",
   "metadata": {},
   "outputs": [],
   "source": []
  },
  {
   "cell_type": "code",
   "execution_count": null,
   "id": "26415509-d577-4209-b31f-7dcdb564f308",
   "metadata": {},
   "outputs": [],
   "source": []
  },
  {
   "cell_type": "code",
   "execution_count": null,
   "id": "0790915e-22a7-46c9-ba4c-959cf18f3281",
   "metadata": {},
   "outputs": [],
   "source": []
  }
 ],
 "metadata": {
  "kernelspec": {
   "display_name": "Python 3 (ipykernel)",
   "language": "python",
   "name": "python3"
  },
  "language_info": {
   "codemirror_mode": {
    "name": "ipython",
    "version": 3
   },
   "file_extension": ".py",
   "mimetype": "text/x-python",
   "name": "python",
   "nbconvert_exporter": "python",
   "pygments_lexer": "ipython3",
   "version": "3.11.7"
  }
 },
 "nbformat": 4,
 "nbformat_minor": 5
}
