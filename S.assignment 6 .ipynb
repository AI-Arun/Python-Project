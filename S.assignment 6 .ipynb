{
 "cells": [
  {
   "cell_type": "code",
   "execution_count": 5,
   "id": "b426b871-b292-4424-9025-dcd126589092",
   "metadata": {},
   "outputs": [],
   "source": [
    "#Question 1 WAP to Find the element in a given list is “Even” or “ODD” using List Comprehension.\n",
    "\n",
    "List1= [12,23,34,45,56,67,78,89,90]"
   ]
  },
  {
   "cell_type": "code",
   "execution_count": 15,
   "id": "03ef6647-759e-4ee4-9089-1da7a4001ed5",
   "metadata": {},
   "outputs": [
    {
     "name": "stdout",
     "output_type": "stream",
     "text": [
      "Even Numbers: [12, 34, 56, 78, 90]\n",
      "Odd Numbers: [23, 45, 67, 89]\n"
     ]
    }
   ],
   "source": [
    "#long code\n",
    "Even=[]\n",
    "Odd=[]\n",
    "for i in List1:\n",
    "    if i%2==0:\n",
    "        Even.append(i)\n",
    "    elif i%2==1:\n",
    "        Odd.append(i)\n",
    "print(\"Even Numbers:\",Even)\n",
    "print(\"Odd Numbers:\",Odd)\n",
    "        "
   ]
  },
  {
   "cell_type": "code",
   "execution_count": 16,
   "id": "1e61ef59-f449-46fe-8366-a7b1e17bdce2",
   "metadata": {},
   "outputs": [
    {
     "name": "stdout",
     "output_type": "stream",
     "text": [
      "Even Numbers: [12, 34, 56, 78, 90]\n",
      "Odd Numbers: [23, 45, 67, 89]\n"
     ]
    }
   ],
   "source": [
    "#using list comprehension\n",
    "Even=[i for i in List1 if i % 2==0]\n",
    "Odd=[i for i in List1 if i %2 !=0]\n",
    "print(\"Even Numbers:\",Even)\n",
    "print(\"Odd Numbers:\",Odd)"
   ]
  },
  {
   "cell_type": "code",
   "execution_count": 21,
   "id": "c93e93c9-3573-49a0-9f46-9c058b7776d5",
   "metadata": {},
   "outputs": [
    {
     "data": {
      "text/plain": [
       "['Even', 'Odd', 'Even', 'Odd', 'Even', 'Odd', 'Even', 'Odd', 'Even']"
      ]
     },
     "execution_count": 21,
     "metadata": {},
     "output_type": "execute_result"
    }
   ],
   "source": [
    "#assigning Even or odd\n",
    "[\"Even\" if i % 2==0 else \"Odd\" for i in List1]"
   ]
  },
  {
   "cell_type": "code",
   "execution_count": null,
   "id": "5c516a28-d0ff-406b-a178-ff61d2bbe167",
   "metadata": {},
   "outputs": [],
   "source": []
  },
  {
   "cell_type": "code",
   "execution_count": null,
   "id": "02724e17-3b68-4aa0-b4d8-c06fafb72b61",
   "metadata": {},
   "outputs": [],
   "source": []
  }
 ],
 "metadata": {
  "kernelspec": {
   "display_name": "Python 3 (ipykernel)",
   "language": "python",
   "name": "python3"
  },
  "language_info": {
   "codemirror_mode": {
    "name": "ipython",
    "version": 3
   },
   "file_extension": ".py",
   "mimetype": "text/x-python",
   "name": "python",
   "nbconvert_exporter": "python",
   "pygments_lexer": "ipython3",
   "version": "3.11.7"
  }
 },
 "nbformat": 4,
 "nbformat_minor": 5
}
