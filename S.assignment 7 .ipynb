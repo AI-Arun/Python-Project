{
 "cells": [
  {
   "cell_type": "code",
   "execution_count": null,
   "id": "6770b9a0-476e-4dea-b37b-5cd2eeb11545",
   "metadata": {},
   "outputs": [],
   "source": [
    "#Question no 1 #Write a program to create a function show_employee() using the following conditions.\n",
    "It should accept the employee’s name, age and salary and display both.\n",
    "If the salary is missing in the function call, then assign default value 9000 to salary.\n",
    "\n"
   ]
  },
  {
   "cell_type": "code",
   "execution_count": 42,
   "id": "ef738646-1056-47cc-9ffb-b705ed1077de",
   "metadata": {},
   "outputs": [
    {
     "name": "stdin",
     "output_type": "stream",
     "text": [
      "Enter your Name:  Arun\n",
      "Enter your Age:  24\n",
      "Enter your Salary:  29000\n"
     ]
    },
    {
     "name": "stdout",
     "output_type": "stream",
     "text": [
      "Name of employee: Arun\n",
      "Age = 24\n",
      "Salary = 29000\n"
     ]
    }
   ],
   "source": [
    "def show_employee(name, age, salary=9000):\n",
    "    print(f\"Name of employee: {name}\")\n",
    "    print(f\"Age = {age}\")\n",
    "    print(f\"Salary = {salary}\")\n",
    "name = input(\"Enter your Name: \")\n",
    "age = int(input(\"Enter your Age: \"))\n",
    "salary = input(\"Enter your Salary: \")\n",
    "if salary:\n",
    "    salary =int(salary)\n",
    "else:\n",
    "    salary=9000\n",
    "\n",
    "show_employee(name, age, salary)\n"
   ]
  },
  {
   "cell_type": "code",
   "execution_count": null,
   "id": "ea041825-de5b-4c47-ba77-d2da093e82dd",
   "metadata": {},
   "outputs": [],
   "source": []
  },
  {
   "cell_type": "code",
   "execution_count": null,
   "id": "1fd76e46-2449-4aed-a530-44b66a8f888f",
   "metadata": {},
   "outputs": [],
   "source": []
  },
  {
   "cell_type": "code",
   "execution_count": null,
   "id": "995a752a-e0b4-4a87-815d-a8fe2c539a26",
   "metadata": {},
   "outputs": [],
   "source": []
  },
  {
   "cell_type": "code",
   "execution_count": null,
   "id": "bb2e5a0f-761d-46bd-9b78-f781ccc297c3",
   "metadata": {},
   "outputs": [],
   "source": []
  },
  {
   "cell_type": "code",
   "execution_count": null,
   "id": "1de2bbd7-8c60-4398-8fa1-747f41dd544d",
   "metadata": {},
   "outputs": [],
   "source": []
  }
 ],
 "metadata": {
  "kernelspec": {
   "display_name": "Python 3 (ipykernel)",
   "language": "python",
   "name": "python3"
  },
  "language_info": {
   "codemirror_mode": {
    "name": "ipython",
    "version": 3
   },
   "file_extension": ".py",
   "mimetype": "text/x-python",
   "name": "python",
   "nbconvert_exporter": "python",
   "pygments_lexer": "ipython3",
   "version": "3.11.7"
  }
 },
 "nbformat": 4,
 "nbformat_minor": 5
}
