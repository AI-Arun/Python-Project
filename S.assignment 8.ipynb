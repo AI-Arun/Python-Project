{
 "cells": [
  {
   "cell_type": "code",
   "execution_count": 25,
   "id": "3c262dc5-344e-4c34-97ea-8263885a0c0d",
   "metadata": {},
   "outputs": [
    {
     "name": "stdout",
     "output_type": "stream",
     "text": [
      "sum between two numbers is=198\n"
     ]
    }
   ],
   "source": [
    "#Question 1 Write a program to create a recursive function to calculate the sum of numbers between given two numbers.\n",
    "def sum_between(start,end):\n",
    "    if start>end:\n",
    "        return 0\n",
    "    else:\n",
    "        return start + sum_between(start + 1,end)\n",
    "result=sum_between(11,22)  \n",
    "print(f\"sum between two numbers is={result}\")\n"
   ]
  },
  {
   "cell_type": "code",
   "execution_count": 28,
   "id": "2679245a-598c-43df-bcc6-63fc50155407",
   "metadata": {},
   "outputs": [
    {
     "name": "stdout",
     "output_type": "stream",
     "text": [
      "The age list is : [33, 32, 30, 28, 26, 24, 23, 22, 20]\n"
     ]
    }
   ],
   "source": [
    "#Question 2 WAP to create an age list from the given DOB list using Lambda function.\n",
    "from datetime import datetime\n",
    "l1= [1991, 1992, 1994, 1996, 1998, 2000, 2001, 2002, 2004]\n",
    "current_year = datetime.now().year\n",
    "age_list = list(map(lambda dob: current_year - dob,l1))\n",
    "print(\"The age list is :\",age_list)"
   ]
  },
  {
   "cell_type": "code",
   "execution_count": null,
   "id": "e9f4e6b9-cbe8-4026-867d-aee5c42d8021",
   "metadata": {},
   "outputs": [],
   "source": []
  },
  {
   "cell_type": "code",
   "execution_count": null,
   "id": "19cffc5e-71fe-4110-8e44-c5a600f697e7",
   "metadata": {},
   "outputs": [],
   "source": []
  },
  {
   "cell_type": "code",
   "execution_count": null,
   "id": "7486c120-a0b8-4be0-afba-2579f6e442bb",
   "metadata": {},
   "outputs": [],
   "source": []
  },
  {
   "cell_type": "code",
   "execution_count": null,
   "id": "259ebc29-a29d-401a-b2b0-428a510e2626",
   "metadata": {},
   "outputs": [],
   "source": []
  },
  {
   "cell_type": "code",
   "execution_count": null,
   "id": "5ba013ec-8acb-44a7-963a-4cc94be400e5",
   "metadata": {},
   "outputs": [],
   "source": []
  },
  {
   "cell_type": "code",
   "execution_count": null,
   "id": "84e484f4-cad4-4460-9447-bd7910d665aa",
   "metadata": {},
   "outputs": [],
   "source": []
  },
  {
   "cell_type": "code",
   "execution_count": null,
   "id": "271f2f04-7602-4596-a78f-f6d91ffbbb07",
   "metadata": {},
   "outputs": [],
   "source": []
  },
  {
   "cell_type": "code",
   "execution_count": null,
   "id": "7618f2b1-309f-4afe-a811-b122ce15d946",
   "metadata": {},
   "outputs": [],
   "source": []
  },
  {
   "cell_type": "code",
   "execution_count": null,
   "id": "9457d8d7-eedc-40b1-b429-392408f374d2",
   "metadata": {},
   "outputs": [],
   "source": []
  },
  {
   "cell_type": "code",
   "execution_count": null,
   "id": "4d0ea161-6800-44cc-835f-4d1e21ca8df8",
   "metadata": {},
   "outputs": [],
   "source": []
  },
  {
   "cell_type": "code",
   "execution_count": null,
   "id": "1571646d-133b-47a5-9043-97b0d01b8051",
   "metadata": {},
   "outputs": [],
   "source": []
  },
  {
   "cell_type": "code",
   "execution_count": null,
   "id": "767f0464-509f-464d-93dc-64740fad39da",
   "metadata": {},
   "outputs": [],
   "source": []
  }
 ],
 "metadata": {
  "kernelspec": {
   "display_name": "Python 3 (ipykernel)",
   "language": "python",
   "name": "python3"
  },
  "language_info": {
   "codemirror_mode": {
    "name": "ipython",
    "version": 3
   },
   "file_extension": ".py",
   "mimetype": "text/x-python",
   "name": "python",
   "nbconvert_exporter": "python",
   "pygments_lexer": "ipython3",
   "version": "3.11.7"
  }
 },
 "nbformat": 4,
 "nbformat_minor": 5
}
